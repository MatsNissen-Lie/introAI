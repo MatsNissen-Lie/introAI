{
 "cells": [
  {
   "cell_type": "code",
   "execution_count": 133,
   "metadata": {},
   "outputs": [
    {
     "name": "stdout",
     "output_type": "stream",
     "text": [
      "The autoreload extension is already loaded. To reload it, use:\n",
      "  %reload_ext autoreload\n"
     ]
    }
   ],
   "source": [
    "# auto realode \n",
    "%load_ext autoreload\n",
    "import numpy as np\n",
    "import pandas as pd\n",
    "import matplotlib.pyplot as plt\n",
    "from queue import PriorityQueue\n",
    "import Map as mp\n",
    "# import seaborn as sns\n"
   ]
  },
  {
   "cell_type": "markdown",
   "metadata": {},
   "source": [
    "Init the map and postions"
   ]
  },
  {
   "cell_type": "code",
   "execution_count": 134,
   "metadata": {},
   "outputs": [],
   "source": [
    "def pos_to_str(pos: list[int, int]) -> int:\n",
    "    return str(pos[0]) + \", \" + str(pos[1])\n",
    "\n",
    "def getNeighbors(map: np.ndarray, pos: list[int, int]) -> list[list[int, int]]:\n",
    "    neighbors = []\n",
    "    for i in [-1, 1]:\n",
    "        new_x_pos = pos[0] + i\n",
    "        new_y_pos = pos[1] + i\n",
    "        if(map[new_x_pos][pos[1]] != -1):\n",
    "            neighbors.append([new_x_pos, pos[1]])\n",
    "        if(map[pos[0]][new_y_pos] != -1):\n",
    "            neighbors.append([pos[0], new_y_pos])\n",
    "    return neighbors\n",
    "        \n",
    "        \n",
    "\n",
    "def heuristic(pos_a, pos_b):\n",
    "    (x1, y1) = pos_a\n",
    "    (x2, y2) = pos_b\n",
    "    return np.sqrt((x1 - x2)**2 + (y1 - y2)**2)\n",
    "\n",
    "def findShortestPath(map_obj):\n",
    "    int_map = map_obj.get_maps()[0]\n",
    "    start = map_obj.get_start_pos()\n",
    "    goal = map_obj.get_goal_pos()\n",
    "\n",
    "    frontier = PriorityQueue()\n",
    "    frontier.put(start, 0)\n",
    "    came_from = {}\n",
    "    cost_so_far = {}\n",
    "    came_from[pos_to_str(start)] = None\n",
    "    cost_so_far[pos_to_str(start)] = 0\n",
    "    while not frontier.empty():\n",
    "        current = frontier.get()\n",
    "        if current == goal:\n",
    "            break\n",
    "        for next in getNeighbors(int_map, current):\n",
    "            new_cost = cost_so_far[pos_to_str(current)] + map_obj.get_cell_value(next)\n",
    "            if pos_to_str(next) not in cost_so_far or new_cost < cost_so_far[pos_to_str(next)]:\n",
    "                cost_so_far[pos_to_str(next)] = new_cost\n",
    "                priority = new_cost + heuristic(goal, next)\n",
    "                frontier.put(next, priority)\n",
    "                came_from[pos_to_str(next)] = current\n",
    "            \n",
    "                \n",
    "    path = [goal]\n",
    "    while path[-1] != start:\n",
    "        path.append(came_from[pos_to_str(path[-1])])\n",
    "    path.reverse()\n",
    "    \n",
    "    return path, cost_so_far\n",
    "\n",
    "def print_walk(map_obj, shortest_path, explored):\n",
    "    for pos in explored:\n",
    "        str_pos = pos.split(', ')\n",
    "        int_pos = [int(str_pos[0]), int(str_pos[1])]\n",
    "        map_obj.set_cell_value(int_pos, ' , ')\n",
    "    for pos in shortest_path:\n",
    "        map_obj.set_cell_value(pos, ' S ')\n",
    "    map_obj.show_map()\n",
    "    "
   ]
  },
  {
   "cell_type": "code",
   "execution_count": 135,
   "metadata": {},
   "outputs": [
    {
     "ename": "TypeError",
     "evalue": "print_walk() missing 1 required positional argument: 'explored'",
     "output_type": "error",
     "traceback": [
      "\u001b[0;31m---------------------------------------------------------------------------\u001b[0m",
      "\u001b[0;31mTypeError\u001b[0m                                 Traceback (most recent call last)",
      "\u001b[1;32m/Users/matsalexander/Desktop/introAI/assignment1/samfundet.ipynb Cell 4\u001b[0m line \u001b[0;36m7\n\u001b[1;32m      <a href='vscode-notebook-cell:/Users/matsalexander/Desktop/introAI/assignment1/samfundet.ipynb#W2sZmlsZQ%3D%3D?line=1'>2</a>\u001b[0m \u001b[39m# map_obj.show_map()\u001b[39;00m\n\u001b[1;32m      <a href='vscode-notebook-cell:/Users/matsalexander/Desktop/introAI/assignment1/samfundet.ipynb#W2sZmlsZQ%3D%3D?line=3'>4</a>\u001b[0m res \u001b[39m=\u001b[39m findShortestPath(map_obj)\n\u001b[0;32m----> <a href='vscode-notebook-cell:/Users/matsalexander/Desktop/introAI/assignment1/samfundet.ipynb#W2sZmlsZQ%3D%3D?line=6'>7</a>\u001b[0m print_walk(res[\u001b[39m0\u001b[39;49m], res[\u001b[39m1\u001b[39;49m]\u001b[39m.\u001b[39;49mkeys())\n",
      "\u001b[0;31mTypeError\u001b[0m: print_walk() missing 1 required positional argument: 'explored'"
     ]
    }
   ],
   "source": [
    "\n",
    "\n",
    "map_obj = mp.Map_Obj(task=2)\n",
    "# map_obj.show_map()\n",
    "\n",
    "res = findShortestPath(map_obj)\n",
    "    \n",
    "\n",
    "print_walk(map_obj,res[0], res[1].keys())\n",
    "        "
   ]
  }
 ],
 "metadata": {
  "kernelspec": {
   "display_name": "Python 3",
   "language": "python",
   "name": "python3"
  },
  "language_info": {
   "codemirror_mode": {
    "name": "ipython",
    "version": 3
   },
   "file_extension": ".py",
   "mimetype": "text/x-python",
   "name": "python",
   "nbconvert_exporter": "python",
   "pygments_lexer": "ipython3",
   "version": "3.9.6"
  },
  "orig_nbformat": 4
 },
 "nbformat": 4,
 "nbformat_minor": 2
}
