{
 "cells": [
  {
   "cell_type": "code",
   "execution_count": 11,
   "metadata": {},
   "outputs": [
    {
     "name": "stdout",
     "output_type": "stream",
     "text": [
      "The autoreload extension is already loaded. To reload it, use:\n",
      "  %reload_ext autoreload\n"
     ]
    }
   ],
   "source": [
    "# auto realode \n",
    "%load_ext autoreload\n",
    "import numpy as np\n",
    "import pandas as pd\n",
    "import time\n",
    "\n",
    "import matplotlib.pyplot as plt\n",
    "from queue import PriorityQueue\n",
    "import Map as mp\n",
    "# import seaborn as sns\n"
   ]
  },
  {
   "cell_type": "markdown",
   "metadata": {},
   "source": [
    "Init the map and postions"
   ]
  },
  {
   "cell_type": "code",
   "execution_count": 12,
   "metadata": {},
   "outputs": [],
   "source": [
    "\n",
    "\n",
    "\n",
    "def pos_to_str(pos: list[int, int]) -> int:\n",
    "    return str(pos[0]) + \", \" + str(pos[1])\n",
    "\n",
    "def getNeighbors(map: np.ndarray, pos: list[int, int]) -> list[list[int, int]]:\n",
    "    neighbors = []\n",
    "    for i in [-1, 1]:\n",
    "        new_x_pos = pos[0] + i\n",
    "        new_y_pos = pos[1] + i\n",
    "        if(map[new_x_pos][pos[1]] != -1):\n",
    "            neighbors.append([new_x_pos, pos[1]])\n",
    "        if(map[pos[0]][new_y_pos] != -1):\n",
    "            neighbors.append([pos[0], new_y_pos])\n",
    "    return neighbors\n",
    "        \n",
    "        \n",
    "\n",
    "def heuristic(pos_a, pos_b):\n",
    "    (x1, y1) = pos_a\n",
    "    (x2, y2) = pos_b\n",
    "    return abs(x1 - x2) + abs(y1 - y2)\n",
    "\n",
    "def findShortestPath(map_obj):\n",
    "    int_map = map_obj.get_maps()[0]\n",
    "    start = map_obj.get_start_pos()\n",
    "    goal = map_obj.get_goal_pos()\n",
    "\n",
    "    frontier = PriorityQueue()\n",
    "    frontier.put((0,start))\n",
    "    came_from = {}\n",
    "    cost_so_far = {}\n",
    "    came_from[pos_to_str(start)] = None\n",
    "    cost_so_far[pos_to_str(start)] = 0\n",
    "    # print(\"goal\", goal)\n",
    "    while not frontier.empty():\n",
    "        queue = frontier.get()\n",
    "        current = queue[1]\n",
    "        # print(\"––––––––––––––––––––––––\")\n",
    "        # print(current)\n",
    "        if current == goal:\n",
    "            break\n",
    "        for next in getNeighbors(int_map, current):\n",
    "            # print(\"––––––––––––\")\n",
    "            # print(\"next\", next)\n",
    "            # print(\"heuristic\", heuristic(goal, next))\n",
    "            new_cost = cost_so_far[pos_to_str(current)] + map_obj.get_cell_value(next)\n",
    "            \n",
    "            if pos_to_str(next) not in cost_so_far or new_cost < cost_so_far[pos_to_str(next)]:\n",
    "                priority = new_cost + heuristic(goal, next)\n",
    "                # print(\"priority\", priority)\n",
    "                cost_so_far[pos_to_str(next)] = new_cost\n",
    "                frontier.put((priority, next))\n",
    "                came_from[pos_to_str(next)] = current\n",
    "            \n",
    "                \n",
    "    path = [goal]\n",
    "    while path[-1] != start:\n",
    "        path.append(came_from[pos_to_str(path[-1])])\n",
    "    path.reverse()\n",
    "    \n",
    "    return path, cost_so_far\n",
    "\n",
    "def print_walk(map_obj, shortest_path, explored):\n",
    "    for pos in explored:\n",
    "        str_pos = pos.split(', ')\n",
    "        int_pos = [int(str_pos[0]), int(str_pos[1])]\n",
    "        map_obj.set_cell_value(int_pos, ' , ')\n",
    "    \n",
    "    for pos in shortest_path[0:-1]:\n",
    "        map_obj.set_cell_value(pos, ' S ')\n",
    "        \n",
    "    goal = map_obj.get_goal_pos()\n",
    "    map_obj.set_cell_value(goal, ' G ')\n",
    "    map_obj.show_map()\n",
    "    "
   ]
  },
  {
   "cell_type": "code",
   "execution_count": 13,
   "metadata": {},
   "outputs": [],
   "source": [
    "map_obj1 = mp.Map_Obj(task=1)\n",
    "res = findShortestPath(map_obj1)\n",
    "# print_walk(map_obj1,res[0], res[1].keys())"
   ]
  },
  {
   "cell_type": "code",
   "execution_count": 14,
   "metadata": {},
   "outputs": [],
   "source": [
    "map_obj2 = mp.Map_Obj(task=2)\n",
    "res = findShortestPath(map_obj2)\n",
    "print_walk(map_obj2,res[0], res[1].keys())"
   ]
  },
  {
   "cell_type": "code",
   "execution_count": 15,
   "metadata": {},
   "outputs": [],
   "source": [
    "map_obj3 = mp.Map_Obj(task=3)\n",
    "res = findShortestPath(map_obj3)\n",
    "print_walk(map_obj3,res[0], [])"
   ]
  }
 ],
 "metadata": {
  "kernelspec": {
   "display_name": "Python 3",
   "language": "python",
   "name": "python3"
  },
  "language_info": {
   "codemirror_mode": {
    "name": "ipython",
    "version": 3
   },
   "file_extension": ".py",
   "mimetype": "text/x-python",
   "name": "python",
   "nbconvert_exporter": "python",
   "pygments_lexer": "ipython3",
   "version": "3.9.6"
  },
  "orig_nbformat": 4
 },
 "nbformat": 4,
 "nbformat_minor": 2
}
